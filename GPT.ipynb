{
 "cells": [
  {
   "cell_type": "code",
   "execution_count": 7,
   "id": "cad55c07",
   "metadata": {
    "ExecuteTime": {
     "end_time": "2022-12-05T20:15:33.549847Z",
     "start_time": "2022-12-05T20:15:33.545805Z"
    }
   },
   "outputs": [],
   "source": [
    "# Import the necessary modules\n",
    "from astropy.io import fits\n",
    "import matplotlib.pyplot as plt\n",
    "from scipy.stats import sigmaclip\n",
    "import numpy as np\n",
    "%matplotlib inline\n",
    "plt.show()\n",
    "plt.style.use(['fivethirtyeight','seaborn-deep'])"
   ]
  },
  {
   "cell_type": "code",
   "execution_count": 36,
   "id": "639c2f60",
   "metadata": {
    "ExecuteTime": {
     "end_time": "2022-12-05T19:54:50.056044Z",
     "start_time": "2022-12-05T19:54:37.931054Z"
    }
   },
   "outputs": [],
   "source": [
    "# Read the FITS image file\n",
    "path = '/Users/tengizibrayev/Desktop/capstone/theli-reduc-2022/subtraction/crisitna-aligned/'\n",
    "file = 'ha-haz.fits'\n",
    "# Read the FITS image file\n",
    "hdulist = fits.open(path + file)\n",
    "data = hdulist[0].data.flatten()\n",
    "# Perform a 3-sigma clipping of the pixel values\n",
    "clipped_data = sigmaclip(data, 3, 3)[0]\n",
    "data = clipped_data"
   ]
  },
  {
   "cell_type": "code",
   "execution_count": 43,
   "id": "8119bfc2",
   "metadata": {
    "ExecuteTime": {
     "end_time": "2022-12-05T19:56:36.943336Z",
     "start_time": "2022-12-05T19:56:35.359580Z"
    }
   },
   "outputs": [
    {
     "name": "stdout",
     "output_type": "stream",
     "text": [
      "Background pixels: [-0.13294041 -0.17324415 -0.20007026 ... -0.16963504 -0.16878098\n",
      " -0.13096379]\n",
      "Mean: -0.16133663058280945\n",
      "Standard deviation: 0.023291388526558876\n"
     ]
    }
   ],
   "source": [
    "# Identify the background pixels and their mean and standard deviation\n",
    "background_pixels = data[data < np.percentile(data, 3)]\n",
    "mean = np.mean(background_pixels)\n",
    "std = np.std(background_pixels)\n",
    "\n",
    "# Print the result\n",
    "print(f'Background pixels: {background_pixels}')\n",
    "print(f'Mean: {mean}')\n",
    "print(f'Standard deviation: {std}')"
   ]
  },
  {
   "cell_type": "code",
   "execution_count": 44,
   "id": "41d89e97",
   "metadata": {
    "ExecuteTime": {
     "end_time": "2022-12-05T19:56:41.687918Z",
     "start_time": "2022-12-05T19:56:40.444737Z"
    }
   },
   "outputs": [
    {
     "data": {
      "image/png": "[encoded data removed]",
      "text/plain": [
       "<Figure size 432x288 with 1 Axes>"
      ]
     },
     "metadata": {},
     "output_type": "display_data"
    }
   ],
   "source": [
    "# Create a histogram of pixel brightness values\n",
    "plt.hist(data.flatten(), bins=100)\n",
    "plt.show()"
   ]
  },
  {
   "cell_type": "code",
   "execution_count": 5,
   "id": "85f235da",
   "metadata": {
    "ExecuteTime": {
     "end_time": "2022-12-05T20:15:17.036060Z",
     "start_time": "2022-12-05T20:15:17.034541Z"
    }
   },
   "outputs": [],
   "source": [
    "file2 = 'all-v404-hb.fits'\n",
    "path2 = '/Users/tengizibrayev/Desktop/capstone/theli-reduc-2022/reduced_data/'"
   ]
  },
  {
   "cell_type": "code",
   "execution_count": 8,
   "id": "01aa8635",
   "metadata": {
    "ExecuteTime": {
     "end_time": "2022-12-05T20:15:41.710278Z",
     "start_time": "2022-12-05T20:15:35.522346Z"
    }
   },
   "outputs": [
    {
     "name": "stdout",
     "output_type": "stream",
     "text": [
      "Background pixels: [-0.06737277 -0.07268705 -0.06753559 ... -0.06204549 -0.07428867\n",
      " -0.08822251]\n",
      "Mean: -0.07092522084712982\n",
      "Standard deviation: 0.008625194430351257\n"
     ]
    },
    {
     "data": {
      "image/png": "[encoded data removed]",
      "text/plain": [
       "<Figure size 432x288 with 1 Axes>"
      ]
     },
     "metadata": {},
     "output_type": "display_data"
    }
   ],
   "source": [
    "# Read the FITS image file\n",
    "hdulist = fits.open(path2 + file2)\n",
    "data = hdulist[0].data.flatten()\n",
    "# Perform a 3-sigma clipping of the pixel values\n",
    "clipped_data = sigmaclip(data, 3, 3)[0]\n",
    "data = clipped_data\n",
    "# Identify the background pixels and their mean and standard deviation\n",
    "background_pixels = data[data < np.percentile(data, 3)]\n",
    "mean = np.mean(background_pixels)\n",
    "std = np.std(background_pixels)\n",
    "\n",
    "# Print the result\n",
    "print(f'Background pixels: {background_pixels}')\n",
    "print(f'Mean: {mean}')\n",
    "print(f'Standard deviation: {std}')\n",
    "# Create a histogram of pixel brightness values\n",
    "plt.hist(data.flatten(), bins=100)\n",
    "plt.show()"
   ]
  },
  {
   "cell_type": "code",
   "execution_count": null,
   "id": "36266ca5",
   "metadata": {},
   "outputs": [],
   "source": []
  }
 ],
 "metadata": {
  "kernelspec": {
   "display_name": "Python 3 (ipykernel)",
   "language": "python",
   "name": "python3"
  },
  "language_info": {
   "codemirror_mode": {
    "name": "ipython",
    "version": 3
   },
   "file_extension": ".py",
   "mimetype": "text/x-python",
   "name": "python",
   "nbconvert_exporter": "python",
   "pygments_lexer": "ipython3",
   "version": "3.9.9"
  },
  "toc": {
   "base_numbering": 1,
   "nav_menu": {},
   "number_sections": true,
   "sideBar": true,
   "skip_h1_title": false,
   "title_cell": "Table of Contents",
   "title_sidebar": "Contents",
   "toc_cell": false,
   "toc_position": {},
   "toc_section_display": true,
   "toc_window_display": false
  }
 },
 "nbformat": 4,
 "nbformat_minor": 5
}
