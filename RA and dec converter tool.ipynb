{
 "cells": [
  {
   "cell_type": "code",
   "execution_count": 1,
   "id": "25d553af",
   "metadata": {
    "ExecuteTime": {
     "end_time": "2022-09-21T07:08:04.979632Z",
     "start_time": "2022-09-21T07:08:04.900272Z"
    }
   },
   "outputs": [],
   "source": [
    "import math\n",
    "import numpy as np"
   ]
  },
  {
   "cell_type": "code",
   "execution_count": 7,
   "id": "9b2b3cac",
   "metadata": {
    "ExecuteTime": {
     "end_time": "2022-09-21T07:09:03.937571Z",
     "start_time": "2022-09-21T07:09:03.931779Z"
    }
   },
   "outputs": [],
   "source": [
    "def ra_to_radian(s):\n",
    "    s = s.split(':')\n",
    "    s = [float(i) for i in s]\n",
    "    return (s[0]*15+s[1]/4+s[2]/240)*math.pi/180\n",
    "\n",
    "def dec_to_radian(s):\n",
    "    s = s.split(':')\n",
    "    s = [float(i) for i in s]\n",
    "    return (s[0]+s[1]/60+s[2]/3600)*math.pi/180"
   ]
  },
  {
   "cell_type": "code",
   "execution_count": 8,
   "id": "512a4717",
   "metadata": {
    "ExecuteTime": {
     "end_time": "2022-09-21T07:09:07.482757Z",
     "start_time": "2022-09-21T07:09:07.475922Z"
    }
   },
   "outputs": [],
   "source": [
    "class Point(object):\n",
    "    def __init__(self,ra,dec):\n",
    "        self.ra = ra\n",
    "        self.dec = dec\n",
    "    def __str__(self):\n",
    "        return self.ra + ' + ' + self.dec\n",
    "        \n",
    "def distance(p1,p2):\n",
    "    ra1 = ra_to_radian(p1.ra)\n",
    "    ra2 = ra_to_radian(p2.ra)\n",
    "    dec1 = dec_to_radian(p1.dec)\n",
    "    dec2 = dec_to_radian(p2.dec)\n",
    "    costheta = np.sin(dec1)*np.sin(dec2) + np.cos(dec1)*np.cos(dec2)*np.cos(ra1-ra2)\n",
    "    theta = np.arccos(costheta)\n",
    "    return theta"
   ]
  },
  {
   "cell_type": "code",
   "execution_count": 13,
   "id": "50de6ecd",
   "metadata": {
    "ExecuteTime": {
     "end_time": "2022-09-19T17:50:43.440644Z",
     "start_time": "2022-09-19T17:50:43.437414Z"
    }
   },
   "outputs": [],
   "source": [
    "p1 = Point('20:24:37','33:43:33')\n",
    "p2 = Point('20:23:51','34:01:39')"
   ]
  },
  {
   "cell_type": "code",
   "execution_count": 15,
   "id": "e1df0ba6",
   "metadata": {
    "ExecuteTime": {
     "end_time": "2022-09-19T17:50:59.236369Z",
     "start_time": "2022-09-19T17:50:59.233290Z"
    }
   },
   "outputs": [],
   "source": [
    "theta = distance(p1,p2)"
   ]
  },
  {
   "cell_type": "code",
   "execution_count": 16,
   "id": "d3901f1d",
   "metadata": {
    "ExecuteTime": {
     "end_time": "2022-09-19T17:51:57.697347Z",
     "start_time": "2022-09-19T17:51:57.691713Z"
    }
   },
   "outputs": [
    {
     "data": {
      "text/plain": [
       "14.226933790907816"
      ]
     },
     "execution_count": 16,
     "metadata": {},
     "output_type": "execute_result"
    }
   ],
   "source": [
    "# distance to v404cygni 2390pc\n",
    "\n",
    "theta * 2390"
   ]
  },
  {
   "cell_type": "code",
   "execution_count": 9,
   "id": "a70dc973",
   "metadata": {
    "ExecuteTime": {
     "end_time": "2022-09-21T07:09:09.993334Z",
     "start_time": "2022-09-21T07:09:09.990137Z"
    }
   },
   "outputs": [],
   "source": [
    "p1 = Point('20:24:03.8185','33:52:01.835')\n",
    "p2 = Point('20:24:03.8180','33:52:01.845')"
   ]
  },
  {
   "cell_type": "code",
   "execution_count": 12,
   "id": "0531047e",
   "metadata": {
    "ExecuteTime": {
     "end_time": "2022-09-21T07:10:08.365044Z",
     "start_time": "2022-09-21T07:10:08.360242Z"
    }
   },
   "outputs": [
    {
     "data": {
      "text/plain": [
       "28.45042531770528"
      ]
     },
     "execution_count": 12,
     "metadata": {},
     "output_type": "execute_result"
    }
   ],
   "source": [
    "distance(p1,p2)*2390*2.062648*10**5"
   ]
  },
  {
   "cell_type": "code",
   "execution_count": null,
   "id": "a39baec4",
   "metadata": {},
   "outputs": [],
   "source": []
  }
 ],
 "metadata": {
  "kernelspec": {
   "display_name": "Python 3 (ipykernel)",
   "language": "python",
   "name": "python3"
  },
  "language_info": {
   "codemirror_mode": {
    "name": "ipython",
    "version": 3
   },
   "file_extension": ".py",
   "mimetype": "text/x-python",
   "name": "python",
   "nbconvert_exporter": "python",
   "pygments_lexer": "ipython3",
   "version": "3.9.9"
  },
  "toc": {
   "base_numbering": 1,
   "nav_menu": {},
   "number_sections": true,
   "sideBar": true,
   "skip_h1_title": false,
   "title_cell": "Table of Contents",
   "title_sidebar": "Contents",
   "toc_cell": false,
   "toc_position": {},
   "toc_section_display": true,
   "toc_window_display": false
  }
 },
 "nbformat": 4,
 "nbformat_minor": 5
}
