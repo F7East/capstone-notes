{
 "cells": [
  {
   "cell_type": "code",
   "execution_count": 5,
   "id": "0266c045",
   "metadata": {
    "ExecuteTime": {
     "end_time": "2022-12-06T12:39:47.037355Z",
     "start_time": "2022-12-06T12:39:47.034464Z"
    }
   },
   "outputs": [],
   "source": [
    "path = '/Users/tengizibrayev/Desktop/capstone/line ratios'"
   ]
  },
  {
   "cell_type": "code",
   "execution_count": 6,
   "id": "ac5fa82f",
   "metadata": {
    "ExecuteTime": {
     "end_time": "2022-12-06T12:39:47.236550Z",
     "start_time": "2022-12-06T12:39:47.223938Z"
    }
   },
   "outputs": [],
   "source": [
    "import os\n",
    "\n",
    "# Set the directory that contains the .dat files\n",
    "directory = path\n",
    "\n",
    "# Get a list of all files in the directory with a .dat extension\n",
    "file_list = [f for f in os.listdir(directory) if f.endswith('.dat')]\n",
    "\n",
    "# Loop through the list of files\n",
    "for file in file_list:\n",
    "    # Open the .dat file in read mode\n",
    "    with open(os.path.join(directory, file), 'r') as f:\n",
    "        # Read the entire file into a string variable\n",
    "        data = f.read()\n",
    "\n",
    "    # Replace all instances of \\t with ,\n",
    "    data = data.replace('\\t', ',')\n",
    "\n",
    "    # Open a new .csv file in write mode\n",
    "    with open(os.path.join(directory, file[:-4] + '.csv'), 'w') as f:\n",
    "        # Write the modified data to the new file\n",
    "        f.write(data)\n"
   ]
  }
 ],
 "metadata": {
  "kernelspec": {
   "display_name": "Python 3 (ipykernel)",
   "language": "python",
   "name": "python3"
  },
  "language_info": {
   "codemirror_mode": {
    "name": "ipython",
    "version": 3
   },
   "file_extension": ".py",
   "mimetype": "text/x-python",
   "name": "python",
   "nbconvert_exporter": "python",
   "pygments_lexer": "ipython3",
   "version": "3.9.9"
  },
  "toc": {
   "base_numbering": 1,
   "nav_menu": {},
   "number_sections": true,
   "sideBar": true,
   "skip_h1_title": false,
   "title_cell": "Table of Contents",
   "title_sidebar": "Contents",
   "toc_cell": false,
   "toc_position": {},
   "toc_section_display": true,
   "toc_window_display": false
  }
 },
 "nbformat": 4,
 "nbformat_minor": 5
}
